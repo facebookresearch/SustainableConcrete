{
 "cells": [
  {
   "cell_type": "markdown",
   "metadata": {
    "customInput": null,
    "originalKey": "35cd65db-6958-473a-90f2-3e91d1f0d198",
    "outputsInitialized": false,
    "showInput": false
   },
   "source": [
    "In this notebook, we carry out multi-output batch Bayesian optimization to attain a next proposal for the cement mixtures."
   ]
  },
  {
   "cell_type": "code",
   "execution_count": 1,
   "metadata": {
    "collapsed": false,
    "customOutput": null,
    "executionStartTime": 1714009688383,
    "executionStopTime": 1714009688755,
    "jupyter": {
     "outputs_hidden": false
    },
    "originalKey": "7f9b23a7-00af-4e54-bfe2-77e7107ee794",
    "outputsInitialized": true,
    "requestMsgId": "7f9b23a7-00af-4e54-bfe2-77e7107ee794",
    "serverExecutionDuration": 2.3517161607742
   },
   "outputs": [],
   "source": [
    "import pandas as pd\n",
    "import torch \n",
    "import botorch\n",
    "import matplotlib \n",
    "import matplotlib.pyplot as plt \n",
    "import numpy as np"
   ]
  },
  {
   "cell_type": "code",
   "execution_count": 2,
   "metadata": {
    "collapsed": false,
    "customInput": null,
    "customOutput": null,
    "executionStartTime": 1714009688760,
    "executionStopTime": 1714009689137,
    "jupyter": {
     "outputs_hidden": false
    },
    "originalKey": "299498a8-4ef4-48d4-a9ac-3dfa9687b09b",
    "outputsInitialized": true,
    "requestMsgId": "299498a8-4ef4-48d4-a9ac-3dfa9687b09b",
    "serverExecutionDuration": 3.1134076416492,
    "showInput": true
   },
   "outputs": [],
   "source": [
    "%matplotlib inline\n",
    "plt.rcParams['figure.figsize'] = [10, 8]\n",
    "plt.rcParams['axes.facecolor'] = 'white'"
   ]
  },
  {
   "cell_type": "markdown",
   "metadata": {
    "customInput": null,
    "originalKey": "bcf1adac-a614-4932-bf6f-2c2bac43ec38",
    "outputsInitialized": false,
    "showInput": false
   },
   "source": [
    "## System Setup"
   ]
  },
  {
   "cell_type": "code",
   "execution_count": 10,
   "metadata": {
    "collapsed": false,
    "customInput": null,
    "customOutput": null,
    "executionStartTime": 1714009689144,
    "executionStopTime": 1714009689506,
    "jupyter": {
     "outputs_hidden": false
    },
    "originalKey": "2dd064da-7dd9-4ad5-be70-bff1866ef58f",
    "output": {
     "id": "2575894405917430"
    },
    "outputsInitialized": true,
    "requestMsgId": "2dd064da-7dd9-4ad5-be70-bff1866ef58f",
    "serverExecutionDuration": 4.8628896474838,
    "showInput": true
   },
   "outputs": [
    {
     "data": {
      "text/plain": [
       "'/Users/sebastianament/Code/SustainableConcrete'"
      ]
     },
     "execution_count": 10,
     "metadata": {},
     "output_type": "execute_result"
    }
   ],
   "source": [
    "# moving into the repo\n",
    "import os\n",
    "\n",
    "repo_name = \"SustainableConcrete\"\n",
    "# modify to point to local repository location\n",
    "repo_dir = \"/home/jkusuma/concrete/\" + repo_name\n",
    "#if not os.getcwd()[-len(repo_name) :] == repo_name:\n",
    "os.chdir(repo_dir)\n",
    "os.getcwd()"
   ]
  },
  {
   "cell_type": "code",
   "execution_count": 11,
   "metadata": {
    "collapsed": false,
    "customInput": null,
    "customOutput": null,
    "executionStartTime": 1714009689512,
    "executionStopTime": 1714009689886,
    "jupyter": {
     "outputs_hidden": false
    },
    "originalKey": "71055627-90d9-45a8-ad48-58123186187b",
    "outputsInitialized": true,
    "requestMsgId": "71055627-90d9-45a8-ad48-58123186187b",
    "serverExecutionDuration": 2.2448971867561,
    "showInput": true
   },
   "outputs": [],
   "source": [
    "import sys\n",
    "if repo_dir not in sys.path:\n",
    "   sys.path.append(repo_dir)"
   ]
  },
  {
   "cell_type": "code",
   "execution_count": 12,
   "metadata": {
    "collapsed": false,
    "customInput": null,
    "customOutput": null,
    "executionStartTime": 1714009689891,
    "executionStopTime": 1714009690470,
    "jupyter": {
     "outputs_hidden": false
    },
    "originalKey": "74e3a991-337e-48ef-9626-025036a92b49",
    "outputsInitialized": true,
    "requestMsgId": "74e3a991-337e-48ef-9626-025036a92b49",
    "serverExecutionDuration": 8.8902749121189,
    "showInput": true
   },
   "outputs": [],
   "source": [
    "data_path = \"data/compressive_strength.csv\"\n",
    "df = pd.read_csv(data_path, delimiter=\",\")"
   ]
  },
  {
   "cell_type": "code",
   "execution_count": 13,
   "metadata": {
    "collapsed": false,
    "customInput": null,
    "customOutput": null,
    "executionStartTime": 1714009690474,
    "executionStopTime": 1714009690926,
    "jupyter": {
     "outputs_hidden": false
    },
    "originalKey": "43f35176-d630-4b84-8369-663f2c36d134",
    "output": {
     "id": "7702538223143112"
    },
    "outputsInitialized": true,
    "requestMsgId": "43f35176-d630-4b84-8369-663f2c36d134",
    "serverExecutionDuration": 73.878277093172,
    "showInput": true
   },
   "outputs": [
    {
     "data": {
      "text/html": [
       "<div>\n",
       "<style scoped>\n",
       "    .dataframe tbody tr th:only-of-type {\n",
       "        vertical-align: middle;\n",
       "    }\n",
       "\n",
       "    .dataframe tbody tr th {\n",
       "        vertical-align: top;\n",
       "    }\n",
       "\n",
       "    .dataframe thead th {\n",
       "        text-align: right;\n",
       "    }\n",
       "</style>\n",
       "<table border=\"1\" class=\"dataframe\">\n",
       "  <thead>\n",
       "    <tr style=\"text-align: right;\">\n",
       "      <th></th>\n",
       "      <th>Mix ID</th>\n",
       "      <th>Name</th>\n",
       "      <th>Description</th>\n",
       "      <th>Cement</th>\n",
       "      <th>Fly Ash</th>\n",
       "      <th>Slag</th>\n",
       "      <th>Clay0</th>\n",
       "      <th>Water</th>\n",
       "      <th>HRWR</th>\n",
       "      <th>Fine Aggregate</th>\n",
       "      <th>Time</th>\n",
       "      <th>GWP</th>\n",
       "      <th>Strength1 (psi)</th>\n",
       "      <th>Strength2 (psi)</th>\n",
       "      <th>Strength3 (psi)</th>\n",
       "      <th>Strength (Mean)</th>\n",
       "      <th>Strength (Std)</th>\n",
       "      <th># of measurements</th>\n",
       "      <th>Curing Temp (°C)</th>\n",
       "    </tr>\n",
       "  </thead>\n",
       "  <tbody>\n",
       "    <tr>\n",
       "      <th>0</th>\n",
       "      <td>Jan_2023_0</td>\n",
       "      <td>1_0</td>\n",
       "      <td>HUMAN</td>\n",
       "      <td>265.0</td>\n",
       "      <td>35.0</td>\n",
       "      <td>200.0</td>\n",
       "      <td>NaN</td>\n",
       "      <td>105.0</td>\n",
       "      <td>5.0</td>\n",
       "      <td>1375.0</td>\n",
       "      <td>1</td>\n",
       "      <td>118.0</td>\n",
       "      <td>5097.5</td>\n",
       "      <td>4960.0</td>\n",
       "      <td>4942.5</td>\n",
       "      <td>5000.0</td>\n",
       "      <td>85.0</td>\n",
       "      <td>3.0</td>\n",
       "      <td>22.0</td>\n",
       "    </tr>\n",
       "    <tr>\n",
       "      <th>1</th>\n",
       "      <td>Jan_2023_0</td>\n",
       "      <td>1_0</td>\n",
       "      <td>HUMAN</td>\n",
       "      <td>265.0</td>\n",
       "      <td>35.0</td>\n",
       "      <td>200.0</td>\n",
       "      <td>NaN</td>\n",
       "      <td>105.0</td>\n",
       "      <td>5.0</td>\n",
       "      <td>1375.0</td>\n",
       "      <td>3</td>\n",
       "      <td>118.0</td>\n",
       "      <td>7865.0</td>\n",
       "      <td>7292.5</td>\n",
       "      <td>7395.0</td>\n",
       "      <td>7518.0</td>\n",
       "      <td>305.0</td>\n",
       "      <td>3.0</td>\n",
       "      <td>22.0</td>\n",
       "    </tr>\n",
       "    <tr>\n",
       "      <th>2</th>\n",
       "      <td>Jan_2023_0</td>\n",
       "      <td>1_0</td>\n",
       "      <td>HUMAN</td>\n",
       "      <td>265.0</td>\n",
       "      <td>35.0</td>\n",
       "      <td>200.0</td>\n",
       "      <td>NaN</td>\n",
       "      <td>105.0</td>\n",
       "      <td>5.0</td>\n",
       "      <td>1375.0</td>\n",
       "      <td>5</td>\n",
       "      <td>118.0</td>\n",
       "      <td>7497.5</td>\n",
       "      <td>7437.5</td>\n",
       "      <td>7017.5</td>\n",
       "      <td>7318.0</td>\n",
       "      <td>262.0</td>\n",
       "      <td>3.0</td>\n",
       "      <td>22.0</td>\n",
       "    </tr>\n",
       "    <tr>\n",
       "      <th>3</th>\n",
       "      <td>Jan_2023_0</td>\n",
       "      <td>1_0</td>\n",
       "      <td>HUMAN</td>\n",
       "      <td>265.0</td>\n",
       "      <td>35.0</td>\n",
       "      <td>200.0</td>\n",
       "      <td>NaN</td>\n",
       "      <td>105.0</td>\n",
       "      <td>5.0</td>\n",
       "      <td>1375.0</td>\n",
       "      <td>28</td>\n",
       "      <td>118.0</td>\n",
       "      <td>9152.5</td>\n",
       "      <td>10347.5</td>\n",
       "      <td>11370.0</td>\n",
       "      <td>10290.0</td>\n",
       "      <td>1110.0</td>\n",
       "      <td>3.0</td>\n",
       "      <td>22.0</td>\n",
       "    </tr>\n",
       "    <tr>\n",
       "      <th>4</th>\n",
       "      <td>Jan_2023_1</td>\n",
       "      <td>1_1</td>\n",
       "      <td>HUMAN</td>\n",
       "      <td>161.0</td>\n",
       "      <td>165.0</td>\n",
       "      <td>174.0</td>\n",
       "      <td>NaN</td>\n",
       "      <td>119.0</td>\n",
       "      <td>3.0</td>\n",
       "      <td>1375.0</td>\n",
       "      <td>1</td>\n",
       "      <td>76.0</td>\n",
       "      <td>3295.0</td>\n",
       "      <td>3475.0</td>\n",
       "      <td>3550.0</td>\n",
       "      <td>3440.0</td>\n",
       "      <td>131.0</td>\n",
       "      <td>3.0</td>\n",
       "      <td>22.0</td>\n",
       "    </tr>\n",
       "    <tr>\n",
       "      <th>...</th>\n",
       "      <td>...</td>\n",
       "      <td>...</td>\n",
       "      <td>...</td>\n",
       "      <td>...</td>\n",
       "      <td>...</td>\n",
       "      <td>...</td>\n",
       "      <td>...</td>\n",
       "      <td>...</td>\n",
       "      <td>...</td>\n",
       "      <td>...</td>\n",
       "      <td>...</td>\n",
       "      <td>...</td>\n",
       "      <td>...</td>\n",
       "      <td>...</td>\n",
       "      <td>...</td>\n",
       "      <td>...</td>\n",
       "      <td>...</td>\n",
       "      <td>...</td>\n",
       "      <td>...</td>\n",
       "    </tr>\n",
       "    <tr>\n",
       "      <th>263</th>\n",
       "      <td>6_2023_4</td>\n",
       "      <td>6_4</td>\n",
       "      <td>NaN</td>\n",
       "      <td>37.0</td>\n",
       "      <td>33.0</td>\n",
       "      <td>474.0</td>\n",
       "      <td>NaN</td>\n",
       "      <td>190.0</td>\n",
       "      <td>NaN</td>\n",
       "      <td>1330.0</td>\n",
       "      <td>28</td>\n",
       "      <td>25.7</td>\n",
       "      <td>NaN</td>\n",
       "      <td>NaN</td>\n",
       "      <td>NaN</td>\n",
       "      <td>NaN</td>\n",
       "      <td>NaN</td>\n",
       "      <td>NaN</td>\n",
       "      <td>NaN</td>\n",
       "    </tr>\n",
       "    <tr>\n",
       "      <th>264</th>\n",
       "      <td>6_2023_5</td>\n",
       "      <td>6_5</td>\n",
       "      <td>NaN</td>\n",
       "      <td>146.0</td>\n",
       "      <td>10.0</td>\n",
       "      <td>586.0</td>\n",
       "      <td>NaN</td>\n",
       "      <td>259.0</td>\n",
       "      <td>NaN</td>\n",
       "      <td>1134.0</td>\n",
       "      <td>1</td>\n",
       "      <td>73.2</td>\n",
       "      <td>NaN</td>\n",
       "      <td>NaN</td>\n",
       "      <td>NaN</td>\n",
       "      <td>NaN</td>\n",
       "      <td>NaN</td>\n",
       "      <td>NaN</td>\n",
       "      <td>NaN</td>\n",
       "    </tr>\n",
       "    <tr>\n",
       "      <th>265</th>\n",
       "      <td>6_2023_5</td>\n",
       "      <td>6_5</td>\n",
       "      <td>NaN</td>\n",
       "      <td>146.0</td>\n",
       "      <td>10.0</td>\n",
       "      <td>586.0</td>\n",
       "      <td>NaN</td>\n",
       "      <td>259.0</td>\n",
       "      <td>NaN</td>\n",
       "      <td>1134.0</td>\n",
       "      <td>3</td>\n",
       "      <td>73.2</td>\n",
       "      <td>NaN</td>\n",
       "      <td>NaN</td>\n",
       "      <td>NaN</td>\n",
       "      <td>NaN</td>\n",
       "      <td>NaN</td>\n",
       "      <td>NaN</td>\n",
       "      <td>NaN</td>\n",
       "    </tr>\n",
       "    <tr>\n",
       "      <th>266</th>\n",
       "      <td>6_2023_5</td>\n",
       "      <td>6_5</td>\n",
       "      <td>NaN</td>\n",
       "      <td>146.0</td>\n",
       "      <td>10.0</td>\n",
       "      <td>586.0</td>\n",
       "      <td>NaN</td>\n",
       "      <td>259.0</td>\n",
       "      <td>NaN</td>\n",
       "      <td>1134.0</td>\n",
       "      <td>5</td>\n",
       "      <td>73.2</td>\n",
       "      <td>NaN</td>\n",
       "      <td>NaN</td>\n",
       "      <td>NaN</td>\n",
       "      <td>NaN</td>\n",
       "      <td>NaN</td>\n",
       "      <td>NaN</td>\n",
       "      <td>NaN</td>\n",
       "    </tr>\n",
       "    <tr>\n",
       "      <th>267</th>\n",
       "      <td>6_2023_5</td>\n",
       "      <td>6_5</td>\n",
       "      <td>NaN</td>\n",
       "      <td>146.0</td>\n",
       "      <td>10.0</td>\n",
       "      <td>586.0</td>\n",
       "      <td>NaN</td>\n",
       "      <td>259.0</td>\n",
       "      <td>NaN</td>\n",
       "      <td>1134.0</td>\n",
       "      <td>28</td>\n",
       "      <td>73.2</td>\n",
       "      <td>NaN</td>\n",
       "      <td>NaN</td>\n",
       "      <td>NaN</td>\n",
       "      <td>NaN</td>\n",
       "      <td>NaN</td>\n",
       "      <td>NaN</td>\n",
       "      <td>NaN</td>\n",
       "    </tr>\n",
       "  </tbody>\n",
       "</table>\n",
       "<p>268 rows × 19 columns</p>\n",
       "</div>"
      ],
      "text/plain": [
       "         Mix ID Name Description  Cement  Fly Ash   Slag  Clay0  Water  HRWR  \\\n",
       "0    Jan_2023_0  1_0       HUMAN   265.0     35.0  200.0    NaN  105.0   5.0   \n",
       "1    Jan_2023_0  1_0       HUMAN   265.0     35.0  200.0    NaN  105.0   5.0   \n",
       "2    Jan_2023_0  1_0       HUMAN   265.0     35.0  200.0    NaN  105.0   5.0   \n",
       "3    Jan_2023_0  1_0       HUMAN   265.0     35.0  200.0    NaN  105.0   5.0   \n",
       "4    Jan_2023_1  1_1       HUMAN   161.0    165.0  174.0    NaN  119.0   3.0   \n",
       "..          ...  ...         ...     ...      ...    ...    ...    ...   ...   \n",
       "263    6_2023_4  6_4         NaN    37.0     33.0  474.0    NaN  190.0   NaN   \n",
       "264    6_2023_5  6_5         NaN   146.0     10.0  586.0    NaN  259.0   NaN   \n",
       "265    6_2023_5  6_5         NaN   146.0     10.0  586.0    NaN  259.0   NaN   \n",
       "266    6_2023_5  6_5         NaN   146.0     10.0  586.0    NaN  259.0   NaN   \n",
       "267    6_2023_5  6_5         NaN   146.0     10.0  586.0    NaN  259.0   NaN   \n",
       "\n",
       "     Fine Aggregate  Time    GWP  Strength1 (psi)  Strength2 (psi)  \\\n",
       "0            1375.0     1  118.0           5097.5           4960.0   \n",
       "1            1375.0     3  118.0           7865.0           7292.5   \n",
       "2            1375.0     5  118.0           7497.5           7437.5   \n",
       "3            1375.0    28  118.0           9152.5          10347.5   \n",
       "4            1375.0     1   76.0           3295.0           3475.0   \n",
       "..              ...   ...    ...              ...              ...   \n",
       "263          1330.0    28   25.7              NaN              NaN   \n",
       "264          1134.0     1   73.2              NaN              NaN   \n",
       "265          1134.0     3   73.2              NaN              NaN   \n",
       "266          1134.0     5   73.2              NaN              NaN   \n",
       "267          1134.0    28   73.2              NaN              NaN   \n",
       "\n",
       "     Strength3 (psi)  Strength (Mean)  Strength (Std)  # of measurements  \\\n",
       "0             4942.5           5000.0            85.0                3.0   \n",
       "1             7395.0           7518.0           305.0                3.0   \n",
       "2             7017.5           7318.0           262.0                3.0   \n",
       "3            11370.0          10290.0          1110.0                3.0   \n",
       "4             3550.0           3440.0           131.0                3.0   \n",
       "..               ...              ...             ...                ...   \n",
       "263              NaN              NaN             NaN                NaN   \n",
       "264              NaN              NaN             NaN                NaN   \n",
       "265              NaN              NaN             NaN                NaN   \n",
       "266              NaN              NaN             NaN                NaN   \n",
       "267              NaN              NaN             NaN                NaN   \n",
       "\n",
       "     Curing Temp (°C)  \n",
       "0                22.0  \n",
       "1                22.0  \n",
       "2                22.0  \n",
       "3                22.0  \n",
       "4                22.0  \n",
       "..                ...  \n",
       "263               NaN  \n",
       "264               NaN  \n",
       "265               NaN  \n",
       "266               NaN  \n",
       "267               NaN  \n",
       "\n",
       "[268 rows x 19 columns]"
      ]
     },
     "execution_count": 13,
     "metadata": {},
     "output_type": "execute_result"
    }
   ],
   "source": [
    "df"
   ]
  },
  {
   "cell_type": "code",
   "execution_count": 14,
   "metadata": {
    "collapsed": false,
    "customInput": null,
    "customOutput": null,
    "executionStartTime": 1714009690937,
    "executionStopTime": 1714009691168,
    "jupyter": {
     "outputs_hidden": false
    },
    "originalKey": "62f83183-07ed-4166-86c1-2c5d698de291",
    "outputsInitialized": true,
    "requestMsgId": "62f83183-07ed-4166-86c1-2c5d698de291",
    "serverExecutionDuration": 3.7614330649376,
    "showInput": true
   },
   "outputs": [],
   "source": [
    "from typing import List\n",
    "\n",
    "def unique_elements(x: List) -> List:\n",
    "    \"\"\"Returns unique elements of x in the same order as their first \n",
    "    occurrance in the input list.\n",
    "    \"\"\"\n",
    "    return list(dict.fromkeys(x))\n",
    "\n",
    "mix_ids = df[\"Mix ID\"].drop_duplicates().to_list()\n",
    "mix_preface = [mid[:mid.rfind(\"_\")] for mid in mix_ids]\n",
    "batch_ids = unique_elements(mix_preface)"
   ]
  },
  {
   "cell_type": "code",
   "execution_count": 15,
   "metadata": {
    "collapsed": false,
    "customInput": null,
    "customOutput": null,
    "executionStartTime": 1714009691174,
    "executionStopTime": 1714009691539,
    "jupyter": {
     "outputs_hidden": false
    },
    "originalKey": "aceb1aae-cc33-4a6e-b383-930718dc48c9",
    "output": {
     "id": "419571434014569"
    },
    "outputsInitialized": true,
    "requestMsgId": "aceb1aae-cc33-4a6e-b383-930718dc48c9",
    "serverExecutionDuration": 6.7853443324566,
    "showInput": true
   },
   "outputs": [
    {
     "data": {
      "text/plain": [
       "{'Jan_2023': [0, 1, 2, 3, 4, 5, 6, 7, 8],\n",
       " 'Feb_2023': [9, 10, 11, 12, 13, 14, 15, 16, 17],\n",
       " '3_2023': [18, 19, 20, 21, 22, 23, 24, 25, 26],\n",
       " 'S_2023': [27, 28, 29, 30],\n",
       " 'cold_2023': [31, 32, 33, 34, 35, 36, 37],\n",
       " 'Clay0_2023': [38],\n",
       " '4_2023': [39, 40, 41, 42, 43, 44, 45, 46, 47, 48, 49, 50],\n",
       " '5_2023': [51, 52, 53, 54, 55, 56, 57, 58],\n",
       " 'C_2023': [59, 60],\n",
       " '6_2023': [61, 62, 63, 64, 65, 66]}"
      ]
     },
     "execution_count": 15,
     "metadata": {},
     "output_type": "execute_result"
    }
   ],
   "source": [
    "{\n",
    "    batch_id: [i for i, name in enumerate(mix_ids) if name[:len(batch_id)] == batch_id]\n",
    "    for batch_id in batch_ids\n",
    "}"
   ]
  },
  {
   "cell_type": "code",
   "execution_count": 20,
   "metadata": {
    "collapsed": false,
    "customInput": null,
    "customOutput": null,
    "executionStartTime": 1714009691547,
    "executionStopTime": 1714009691939,
    "jupyter": {
     "outputs_hidden": false
    },
    "originalKey": "5727a30e-f6fd-436a-aaaf-de9066a7ec60",
    "output": {
     "id": "7867437206608162"
    },
    "outputsInitialized": true,
    "requestMsgId": "5727a30e-f6fd-436a-aaaf-de9066a7ec60",
    "serverExecutionDuration": 41.158806532621,
    "showInput": true
   },
   "outputs": [
    {
     "name": "stdout",
     "output_type": "stream",
     "text": [
      "The data has 204 rows and 15 columns, which are:\n",
      "\t- Mix ID\n",
      "\t- Name\n",
      "\t- Description\n",
      "\t- Cement\n",
      "\t- Fly Ash\n",
      "\t- Slag\n",
      "\t- Water\n",
      "\t- HRWR\n",
      "\t- Fine Aggregate\n",
      "\t- Curing Temp (°C)\n",
      "\t- Time\n",
      "\t- GWP\n",
      "\t- Strength (Mean)\n",
      "\t- Strength (Std)\n",
      "\t- # of measurements\n",
      "\n",
      "There are 3 columns with missing entries:\n",
      "\t- Strength (Mean) has 2 missing entries.\n",
      "\t- Strength (Std) has 2 missing entries.\n",
      "\t- # of measurements has 2 missing entries.\n",
      "\n",
      "Removing missing rows with missing entries from data.\n",
      "\t-Rows indices to be removed: missing_row_ind = [110, 113]\n",
      "\t-Number of missing values after deletion (Should be zero): 0\n",
      "\n",
      "Found the following batch names:\n",
      "\t- Jan_2023\n",
      "\t- Feb_2023\n",
      "\t- 3_2023\n",
      "\t- S_2023\n",
      "\t- 4_2023\n",
      "\t- 5_2023\n",
      "\n",
      "Separating model inputs and outputs:\n",
      "Input columns: \n",
      "\t- Cement\n",
      "\t- Fly Ash\n",
      "\t- Slag\n",
      "\t- Water\n",
      "\t- HRWR\n",
      "\t- Fine Aggregate\n",
      "\t- Curing Temp (°C)\n",
      "\t- Time\n",
      "Output (Mean) columns\n",
      "\t- GWP\n",
      "\t- Strength (Mean)\n",
      "Output (Std) columns\n",
      "\t- Strength (Std)\n",
      "\n",
      "Negating GWP to frame as joint maximization problem.\n",
      "\n",
      "Adding and setting standard deviation of GWP to uniformly small value since our estimates are deterministic.\n",
      "\n",
      "Computing strength standard error of by dividing standard deviation by sqrt(# of measurements).\n",
      "\n"
     ]
    }
   ],
   "source": [
    "import importlib\n",
    "import utils\n",
    "from utils import DEFAULT_USED_COLUMNS\n",
    "\n",
    "importlib.reload(utils)\n",
    "verbose = True\n",
    "# selecting the batches we want to plot\n",
    "# batch_names = [\"Jan_2023\", \"Feb_2023\", \"3_2023\", \"S_2023\", \"4_2023\", \"5_2023\"] # , \"6\"]\n",
    "# cold_batch_names = [\"cold_2023\"] #, \"C\"]\n",
    "# batch_names = batch_names.extend(cold_batch_names)\n",
    "data = utils.load_concrete_strength(\n",
    "    data_path=data_path, verbose=verbose, batch_names=batch_names, used_columns=DEFAULT_USED_COLUMNS,\n",
    ")"
   ]
  },
  {
   "cell_type": "code",
   "execution_count": 21,
   "metadata": {
    "collapsed": false,
    "customInput": null,
    "customOutput": null,
    "executionStartTime": 1714009691946,
    "executionStopTime": 1714009692318,
    "jupyter": {
     "outputs_hidden": false
    },
    "originalKey": "18d77774-cb18-4005-9336-c0dea264a5c3",
    "output": {
     "id": "1081411849824259"
    },
    "outputsInitialized": true,
    "requestMsgId": "18d77774-cb18-4005-9336-c0dea264a5c3",
    "serverExecutionDuration": 5.7813227176666,
    "showInput": true
   },
   "outputs": [
    {
     "data": {
      "text/plain": [
       "['Cement',\n",
       " 'Fly Ash',\n",
       " 'Slag',\n",
       " 'Water',\n",
       " 'HRWR',\n",
       " 'Fine Aggregate',\n",
       " 'Curing Temp (°C)']"
      ]
     },
     "execution_count": 21,
     "metadata": {},
     "output_type": "execute_result"
    }
   ],
   "source": [
    "# importlib.reload(utils)\n",
    "data.X_columns[:-1]"
   ]
  },
  {
   "cell_type": "markdown",
   "metadata": {
    "customInput": null,
    "originalKey": "5763e050-7a4b-49d7-aadd-feffbad0b4aa",
    "outputsInitialized": false,
    "showInput": false
   },
   "source": [
    "## Define and Fit Model\n",
    "1. fit strength model\n",
    "2. fit GWP model\n",
    "3. unify as composition-input-only with fixed-time outputs"
   ]
  },
  {
   "cell_type": "code",
   "execution_count": 22,
   "metadata": {
    "collapsed": false,
    "customInput": null,
    "customOutput": null,
    "executionStartTime": 1714009692329,
    "executionStopTime": 1714009692716,
    "jupyter": {
     "outputs_hidden": false
    },
    "originalKey": "7d99caf3-6027-4580-b317-4e1749727b4f",
    "output": {
     "id": "2443510099183525"
    },
    "outputsInitialized": true,
    "requestMsgId": "7d99caf3-6027-4580-b317-4e1749727b4f",
    "serverExecutionDuration": 7.6500475406647,
    "showInput": true
   },
   "outputs": [
    {
     "data": {
      "text/plain": [
       "(torch.Size([202, 8]), torch.Size([202, 2]))"
      ]
     },
     "execution_count": 22,
     "metadata": {},
     "output_type": "execute_result"
    }
   ],
   "source": [
    "import models\n",
    "importlib.reload(utils)\n",
    "importlib.reload(models)\n",
    "data.X.shape, data.Y.shape"
   ]
  },
  {
   "cell_type": "code",
   "execution_count": 23,
   "metadata": {
    "collapsed": false,
    "customInput": null,
    "customOutput": null,
    "executionStartTime": 1714009692726,
    "executionStopTime": 1714009693103,
    "jupyter": {
     "outputs_hidden": false
    },
    "originalKey": "e81f1850-5357-4cb5-acb9-7a128461ddd3",
    "outputsInitialized": true,
    "requestMsgId": "e81f1850-5357-4cb5-acb9-7a128461ddd3",
    "serverExecutionDuration": 2.2094137966633,
    "showInput": true
   },
   "outputs": [],
   "source": [
    "model_strength_days = [1, 28]  # the strength days that are converted to optmization objectives\n",
    "model = models.SustainableConcreteModel(strength_days=model_strength_days)"
   ]
  },
  {
   "cell_type": "code",
   "execution_count": 26,
   "metadata": {
    "collapsed": false,
    "customInput": null,
    "customOutput": null,
    "executionStartTime": 1714009693109,
    "executionStopTime": 1714009693476,
    "jupyter": {
     "outputs_hidden": false
    },
    "originalKey": "bef84134-8034-41f8-a605-4ea4a088ff1f",
    "output": {
     "id": "1111997766821385"
    },
    "outputsInitialized": true,
    "requestMsgId": "bef84134-8034-41f8-a605-4ea4a088ff1f",
    "serverExecutionDuration": 132.89556279778,
    "showInput": true
   },
   "outputs": [
    {
     "data": {
      "text/plain": [
       "SingleTaskGP(\n",
       "  (likelihood): GaussianLikelihood(\n",
       "    (noise_covar): HomoskedasticNoise(\n",
       "      (raw_noise_constraint): LogTransformedInterval(1.000E-04, 1.000E+00)\n",
       "    )\n",
       "  )\n",
       "  (mean_module): ConstantMean()\n",
       "  (covar_module): LinearKernel(\n",
       "    (raw_variance_constraint): Positive()\n",
       "  )\n",
       "  (outcome_transform): Standardize()\n",
       "  (input_transform): Normalize()\n",
       ")"
      ]
     },
     "execution_count": 26,
     "metadata": {},
     "output_type": "execute_result"
    }
   ],
   "source": [
    "data = utils.load_concrete_strength(\n",
    "    data_path=data_path,\n",
    "    batch_names=batch_names,\n",
    "    verbose=False,\n",
    "    used_columns=DEFAULT_USED_COLUMNS,\n",
    ")\n",
    "model.fit_gwp_model(data)"
   ]
  },
  {
   "cell_type": "code",
   "execution_count": 27,
   "metadata": {
    "collapsed": false,
    "customInput": null,
    "customOutput": null,
    "executionStartTime": 1714009693482,
    "executionStopTime": 1714009695080,
    "jupyter": {
     "outputs_hidden": false
    },
    "originalKey": "b3c20ef0-c346-4636-aeb6-57533f082062",
    "outputsInitialized": true,
    "requestMsgId": "b3c20ef0-c346-4636-aeb6-57533f082062",
    "serverExecutionDuration": 1403.7270434201,
    "showInput": true
   },
   "outputs": [
    {
     "data": {
      "text/plain": [
       "SingleTaskGP(\n",
       "  (likelihood): GaussianLikelihood(\n",
       "    (noise_covar): HomoskedasticNoise(\n",
       "      (raw_noise_constraint): LogTransformedInterval(1.000E-06, 1.000E+00)\n",
       "    )\n",
       "  )\n",
       "  (mean_module): ConstantMean()\n",
       "  (covar_module): AdditiveKernel(\n",
       "    (kernels): ModuleList(\n",
       "      (0): ScaleKernel(\n",
       "        (base_kernel): MaternKernel(\n",
       "          (raw_lengthscale_constraint): LogTransformedInterval(1.000E-02, 1.000E+03)\n",
       "        )\n",
       "        (raw_outputscale_constraint): LogTransformedInterval(1.000E-02, 1.000E+02)\n",
       "      )\n",
       "      (1): ScaleKernel(\n",
       "        (base_kernel): RBFKernel(\n",
       "          (raw_lengthscale_constraint): LogTransformedInterval(1.000E-02, 1.000E+03)\n",
       "        )\n",
       "        (raw_outputscale_constraint): LogTransformedInterval(1.000E-02, 1.000E+02)\n",
       "      )\n",
       "    )\n",
       "  )\n",
       "  (outcome_transform): Standardize()\n",
       "  (input_transform): ChainedInputTransform(\n",
       "    (tf1): AffineInputTransform()\n",
       "    (tf2): Log10()\n",
       "    (tf3): Normalize()\n",
       "  )\n",
       ")"
      ]
     },
     "execution_count": 27,
     "metadata": {},
     "output_type": "execute_result"
    }
   ],
   "source": [
    "model.fit_strength_model(data, use_fixed_noise=False)"
   ]
  },
  {
   "cell_type": "code",
   "execution_count": 28,
   "metadata": {
    "collapsed": false,
    "customInput": null,
    "customOutput": null,
    "executionStartTime": 1714009695086,
    "executionStopTime": 1714009695408,
    "jupyter": {
     "outputs_hidden": false
    },
    "originalKey": "294fc009-e34c-41b5-9467-33597f7b2c37",
    "output": {
     "id": "1113260983226036"
    },
    "outputsInitialized": true,
    "requestMsgId": "294fc009-e34c-41b5-9467-33597f7b2c37",
    "serverExecutionDuration": 10.29384508729,
    "showInput": true
   },
   "outputs": [
    {
     "data": {
      "text/plain": [
       "tensor([0.0147], dtype=torch.float64, grad_fn=<ExpBackward0>)"
      ]
     },
     "execution_count": 28,
     "metadata": {},
     "output_type": "execute_result"
    }
   ],
   "source": [
    "model.strength_model.likelihood.noise"
   ]
  },
  {
   "cell_type": "code",
   "execution_count": 29,
   "metadata": {
    "collapsed": false,
    "customInput": null,
    "customOutput": null,
    "executionStartTime": 1714009695414,
    "executionStopTime": 1714009695801,
    "jupyter": {
     "outputs_hidden": false
    },
    "originalKey": "c52f222c-5134-4ead-b913-b945d450ec19",
    "outputsInitialized": true,
    "requestMsgId": "c52f222c-5134-4ead-b913-b945d450ec19",
    "serverExecutionDuration": 4.8274807631969,
    "showInput": true
   },
   "outputs": [],
   "source": [
    "model_list = model.get_model_list()"
   ]
  },
  {
   "cell_type": "code",
   "execution_count": 30,
   "metadata": {
    "collapsed": false,
    "customInput": null,
    "customOutput": null,
    "executionStartTime": 1714009695816,
    "executionStopTime": 1714009696207,
    "jupyter": {
     "outputs_hidden": false
    },
    "originalKey": "80aea549-772b-467a-b9c9-2ce54187bf80",
    "output": {
     "id": "308284912301956"
    },
    "outputsInitialized": true,
    "requestMsgId": "80aea549-772b-467a-b9c9-2ce54187bf80",
    "serverExecutionDuration": 45.48205435276,
    "showInput": true
   },
   "outputs": [],
   "source": [
    "# NOTE: the original search space bounds are not satisfied by some of the Ozinga data.\n",
    "X, Y, Yvar, X_bounds = data.gwp_data\n",
    "ind = range(len(X))\n",
    "post_list = model_list.posterior(X)"
   ]
  },
  {
   "cell_type": "code",
   "execution_count": 31,
   "metadata": {
    "collapsed": false,
    "customInput": null,
    "customOutput": null,
    "executionStartTime": 1714009696222,
    "executionStopTime": 1714009696610,
    "jupyter": {
     "outputs_hidden": false
    },
    "originalKey": "53c397d3-9adf-44ee-921d-0c064db6e8dd",
    "outputsInitialized": true,
    "requestMsgId": "53c397d3-9adf-44ee-921d-0c064db6e8dd",
    "serverExecutionDuration": 3.6786757409573,
    "showInput": true
   },
   "outputs": [],
   "source": [
    "CHECK_gwp = 0\n",
    "\n",
    "if CHECK_gwp:\n",
    "    obj_id = 0\n",
    "    # Y[ind], post_list.mean[:, 0], Yvar[ind], post_list.variance[:, obj_id] # variance for GWP looking good, since it gets rounded to ~ 1%.\n",
    "    truth = Y[ind]\n",
    "    pred = post_list.mean[:, 0].detach()\n",
    "    truth_std = Yvar[ind][ind].sqrt().detach()\n",
    "    pred_std = post_list.variance[:, obj_id].sqrt().detach()\n",
    "    plt.figure(dpi=150)\n",
    "    plt.title(\"GWP Model Calibration\")\n",
    "    plt.ylabel(\"Prediction\")\n",
    "    plt.xlabel(\"Truth\")\n",
    "    plt.scatter(truth, pred)\n",
    "    plt.errorbar(truth, pred, yerr=2*pred_std, fmt=\"o\")\n",
    "    line = torch.arange(truth.min(), truth.max())\n",
    "    plt.plot(line, line)"
   ]
  },
  {
   "cell_type": "code",
   "execution_count": 32,
   "metadata": {
    "collapsed": false,
    "customInput": null,
    "customOutput": null,
    "executionStartTime": 1714009696623,
    "executionStopTime": 1714009697011,
    "jupyter": {
     "outputs_hidden": false
    },
    "originalKey": "fc5c2b04-cb90-4fe3-9ead-4b6c3ed45265",
    "output": {
     "id": "1115036999740829"
    },
    "outputsInitialized": true,
    "requestMsgId": "fc5c2b04-cb90-4fe3-9ead-4b6c3ed45265",
    "serverExecutionDuration": 9.9345855414867,
    "showInput": true
   },
   "outputs": [
    {
     "data": {
      "text/plain": [
       "tensor([[-200.7253]], dtype=torch.float64, grad_fn=<UnsqueezeBackward0>)"
      ]
     },
     "execution_count": 32,
     "metadata": {},
     "output_type": "execute_result"
    }
   ],
   "source": [
    "model.gwp_model.posterior(torch.tensor([500, 0, 0, 100, 1.3, 16.0, 1375])).mean # TODO: seems like GWP reference point is too low"
   ]
  },
  {
   "cell_type": "code",
   "execution_count": 33,
   "metadata": {
    "collapsed": false,
    "customInput": null,
    "customOutput": null,
    "executionStartTime": 1714009697027,
    "executionStopTime": 1714009697418,
    "jupyter": {
     "outputs_hidden": false
    },
    "originalKey": "40f80adc-5aaa-48de-b494-c487cb45d8a8",
    "output": {
     "id": "295914886889310"
    },
    "outputsInitialized": true,
    "requestMsgId": "40f80adc-5aaa-48de-b494-c487cb45d8a8",
    "serverExecutionDuration": 6.4466185867786,
    "showInput": true
   },
   "outputs": [
    {
     "data": {
      "text/plain": [
       "tensor([0.0147], dtype=torch.float64, grad_fn=<ExpBackward0>)"
      ]
     },
     "execution_count": 33,
     "metadata": {},
     "output_type": "execute_result"
    }
   ],
   "source": [
    "model.strength_model.likelihood.noise"
   ]
  },
  {
   "cell_type": "code",
   "execution_count": 34,
   "metadata": {
    "collapsed": false,
    "customInput": null,
    "customOutput": null,
    "executionStartTime": 1714009697427,
    "executionStopTime": 1714009697805,
    "jupyter": {
     "outputs_hidden": false
    },
    "originalKey": "d9672725-42c2-42bf-b5ed-08891b7431af",
    "outputsInitialized": true,
    "requestMsgId": "d9672725-42c2-42bf-b5ed-08891b7431af",
    "serverExecutionDuration": 4.3433681130409,
    "showInput": true
   },
   "outputs": [],
   "source": [
    "CHECK_1day = 0\n",
    "\n",
    "if CHECK_1day:\n",
    "    time = 1\n",
    "    Xt, truth, truth_var = data.strength_data_by_time(time)\n",
    "    truth_std = truth_var.sqrt()\n",
    "    obj_id_post = 1 # 0 is GWP, 1 is 1 day, 2, is 28-day strength\n",
    "    # truth = data.Y[row_ind, obj_id][ind]\n",
    "    pred = post_list.mean[:, obj_id_post].detach()\n",
    "\n",
    "    # truth_std = data.Yvar[row_ind, obj_id][ind].sqrt()\n",
    "    pred_std = post_list.variance[:, obj_id_post].sqrt().detach()\n",
    "\n",
    "\n",
    "    fig = plt.figure(dpi=200)\n",
    "    plt.title(f\"Day-{time} Strength Calibration\")\n",
    "    plt.ylabel(\"Prediction\")\n",
    "    plt.xlabel(\"Truth\")\n",
    "    plt.scatter(truth, pred)\n",
    "    lw = 3\n",
    "    plt.errorbar(truth, pred, yerr=2 * pred_std, fmt=\"o\", linewidth=lw)\n",
    "    plt.errorbar(truth.squeeze(), pred, xerr=2 * truth_std.squeeze(), fmt=\"o\", linewidth=lw/2)\n",
    "    line = torch.arange(truth.min(), truth.max())\n",
    "    plt.plot(line, line, color=\"black\", linestyle=\":\")\n",
    "    plt.show()"
   ]
  },
  {
   "cell_type": "code",
   "execution_count": 35,
   "metadata": {
    "collapsed": false,
    "customInput": null,
    "customOutput": null,
    "executionStartTime": 1714009697816,
    "executionStopTime": 1714009698219,
    "jupyter": {
     "outputs_hidden": false
    },
    "originalKey": "6e4d1eee-bc29-43c8-8245-361327b6a467",
    "outputsInitialized": true,
    "requestMsgId": "6e4d1eee-bc29-43c8-8245-361327b6a467",
    "serverExecutionDuration": 1.8328316509724,
    "showInput": true
   },
   "outputs": [],
   "source": [
    "# fig.savefig(\"1_day_strength_callibration_fourth_batch.pdf\", bbox_inches='tight')"
   ]
  },
  {
   "cell_type": "code",
   "execution_count": 36,
   "metadata": {
    "collapsed": false,
    "customInput": null,
    "customOutput": null,
    "executionStartTime": 1714009903053,
    "executionStopTime": 1714009910267,
    "jupyter": {
     "outputs_hidden": false
    },
    "originalKey": "b253d6e1-3d4a-4892-bc25-fac7f84f9635",
    "output": {
     "id": "446262808066983"
    },
    "outputsInitialized": true,
    "requestMsgId": "b253d6e1-3d4a-4892-bc25-fac7f84f9635",
    "serverExecutionDuration": 823.92447069287,
    "showInput": true
   },
   "outputs": [
    {
     "data": {
      "image/png": "[encoded data removed]",
      "text/plain": [
       "<Figure size 2000x1600 with 1 Axes>"
      ]
     },
     "metadata": {},
     "output_type": "display_data"
    }
   ],
   "source": [
    "CHECK_28day = 1\n",
    "\n",
    "if CHECK_28day:\n",
    "    time = 28\n",
    "    Xt, truth, truth_var = data.strength_data_by_time(time)\n",
    "    truth = truth.squeeze()\n",
    "    truth_std = truth_var.sqrt().squeeze()\n",
    "\n",
    "    # obj_id_post = -1 # 0 is GWP, 1 is 1 day, 2, is 28-day strength\n",
    "    # pred = post_list.mean[:, obj_id_post].detach()\n",
    "    # pred_std = post_list.variance[:, obj_id_post].sqrt()\n",
    "\n",
    "    post_t = model.strength_model.posterior(Xt)\n",
    "    pred = post_t.mean.detach().squeeze()\n",
    "    pred_std = post_t.variance.sqrt().detach().squeeze()\n",
    "\n",
    "    fig = plt.figure(dpi=200)\n",
    "    plt.title(f\"Day-{time} Strength Calibration\")\n",
    "    plt.ylabel(\"Prediction\")\n",
    "    plt.xlabel(\"Truth\")\n",
    "    plt.scatter(truth, pred)\n",
    "    lw = 3\n",
    "    plt.errorbar(truth, pred, yerr=2 * pred_std, fmt=\"o\", linewidth=lw)\n",
    "    plt.errorbar(truth, pred, xerr=2 * truth_std, fmt=\"o\", linewidth=lw/2)\n",
    "    line = torch.arange(truth.min(), truth.max())\n",
    "    plt.plot(line, line, color=\"black\", linestyle=\":\")"
   ]
  },
  {
   "cell_type": "code",
   "execution_count": 37,
   "metadata": {
    "collapsed": false,
    "customInput": null,
    "customOutput": null,
    "executionStartTime": 1714009863048,
    "executionStopTime": 1714009863617,
    "jupyter": {
     "outputs_hidden": false
    },
    "originalKey": "a3033f4c-54c9-4af8-a20e-8ba1996caa46",
    "outputsInitialized": true,
    "requestMsgId": "a3033f4c-54c9-4af8-a20e-8ba1996caa46",
    "serverExecutionDuration": 1.9750595092773,
    "showInput": true
   },
   "outputs": [],
   "source": [
    "# fig.savefig(\"28_day_strength_callibration_fourth_batch.pdf\", bbox_inches='tight')"
   ]
  },
  {
   "cell_type": "markdown",
   "metadata": {
    "customInput": null,
    "originalKey": "78164108-81dc-4f30-ad73-bfd093dffcfb",
    "outputsInitialized": false,
    "showInput": false
   },
   "source": [
    "## Strength Curve Predictions"
   ]
  },
  {
   "cell_type": "code",
   "execution_count": 38,
   "metadata": {
    "collapsed": false,
    "customInput": null,
    "customOutput": null,
    "executionStartTime": 1714010010664,
    "executionStopTime": 1714010011166,
    "jupyter": {
     "outputs_hidden": false
    },
    "originalKey": "6c33e854-1460-42e9-81b6-fb17e287a774",
    "output": {
     "id": "713307777423140"
    },
    "outputsInitialized": true,
    "requestMsgId": "6c33e854-1460-42e9-81b6-fb17e287a774",
    "serverExecutionDuration": 14.225352555513,
    "showInput": true
   },
   "outputs": [
    {
     "name": "stdout",
     "output_type": "stream",
     "text": [
      "== mix tested ==\n",
      "cement:   210.0\n",
      "fly ash:  110.0\n",
      "slag:     180.0\n",
      "water:    180.0\n",
      "hrwr:     2.0\n",
      "fine agg: 1400.0\n",
      "w/b:      0.36\n"
     ]
    }
   ],
   "source": [
    "## Example 1: Select a mix in the data set that we want to plot\n",
    "X = data.gwp_data[0]\n",
    "mix_ind = 21 # this selects which mix from the database we want to plot\n",
    "X_plot = X[[mix_ind]] # follows: cement, fly ash, slag, water, HRWR, fine agg \n",
    "## Example 2: manually specify the composition\n",
    "manual_specify = 1\n",
    "if manual_specify == 1:\n",
    "    X_plot[0,0] = 210.   # cement\n",
    "    X_plot[0,1] = 110.   # fly ash\n",
    "    X_plot[0,2] = 180.   # slag\n",
    "    X_plot[0,3] = 180.   # water\n",
    "    X_plot[0,4] =   2.   # HRWR\n",
    "    X_plot[0,5] = 1400.  # fine agg\n",
    "# print the formula\n",
    "print('== mix tested ==')\n",
    "print('cement:   ' + str(X_plot[0,0].item()))\n",
    "print('fly ash:  ' + str(X_plot[0,1].item()))\n",
    "print('slag:     ' + str(X_plot[0,2].item()))\n",
    "print('water:    ' + str(X_plot[0,3].item()))\n",
    "print('hrwr:     ' + str(X_plot[0,4].item()))\n",
    "print('fine agg: ' + str(X_plot[0,5].item()))\n",
    "print('w/b:      ' + str(X_plot[0,3].item()/(X_plot[0,0].item()+ X_plot[0,1].item()+ X_plot[0,2].item())))"
   ]
  },
  {
   "cell_type": "code",
   "execution_count": 39,
   "metadata": {
    "collapsed": false,
    "customInput": null,
    "customOutput": null,
    "executionStartTime": 1714010015204,
    "executionStopTime": 1714010021316,
    "jupyter": {
     "outputs_hidden": false
    },
    "originalKey": "a6579d0f-a242-4ccf-be2d-1834a2a54787",
    "output": {
     "id": "1829917504195422"
    },
    "outputsInitialized": true,
    "requestMsgId": "a6579d0f-a242-4ccf-be2d-1834a2a54787",
    "serverExecutionDuration": 783.41408073902,
    "showInput": true
   },
   "outputs": [
    {
     "name": "stdout",
     "output_type": "stream",
     "text": [
      "== mix tested ==\n",
      "cement:   210.0\n",
      "fly ash:  110.0\n",
      "slag:     180.0\n",
      "water:    180.0\n",
      "hrwr:     2.0\n",
      "fine agg: 1400.0\n",
      "w/b:      0.36\n"
     ]
    },
    {
     "data": {
      "text/plain": [
       "<Figure size 600x600 with 0 Axes>"
      ]
     },
     "execution_count": 39,
     "metadata": {},
     "output_type": "execute_result"
    },
    {
     "data": {
      "image/png": "[encoded data removed]",
      "text/plain": [
       "<Figure size 1500x1200 with 1 Axes>"
      ]
     },
     "metadata": {},
     "output_type": "display_data"
    },
    {
     "data": {
      "text/plain": [
       "<Figure size 600x600 with 0 Axes>"
      ]
     },
     "metadata": {},
     "output_type": "display_data"
    }
   ],
   "source": [
    "## Run GWP and strength curve predictions\n",
    "gwp_pred = model.gwp_model.posterior(X_plot).mean\n",
    "\n",
    "t_start, t_stop = 0.2, 28.0\n",
    "num_t = 1024    # default value is 1024\n",
    "plot_times = torch.arange(t_start, t_stop, step=(t_stop - t_start) / num_t)\n",
    "\n",
    "#plot_times = torch.tensor([0.2, 0.3, 0.5, 0.8, 1.0, 2.0, 3.0, 5.0, 28.0])\n",
    "#num_t = plot_times.size(dim=0)\n",
    "\n",
    "# adding time dimension to composition inputs\n",
    "X_w_time = torch.cat(\n",
    "    (X_plot.expand(num_t, X_plot.shape[-1]), plot_times.unsqueeze(-1)), dim=-1\n",
    ")\n",
    "\n",
    "curve_post = model.strength_model.posterior(X_w_time)\n",
    "curve_mean = curve_post.mean.detach().squeeze()\n",
    "curve_std = curve_post.variance.sqrt().detach().squeeze()\n",
    "\n",
    "# print the formula\n",
    "print('== mix tested ==')\n",
    "print('cement:   ' + str(X_plot[0,0].item()))\n",
    "print('fly ash:  ' + str(X_plot[0,1].item()))\n",
    "print('slag:     ' + str(X_plot[0,2].item()))\n",
    "print('water:    ' + str(X_plot[0,3].item()))\n",
    "print('hrwr:     ' + str(X_plot[0,4].item()))\n",
    "print('fine agg: ' + str(X_plot[0,5].item()))\n",
    "print('w/b:      ' + str(X_plot[0,3].item()/(X_plot[0,0].item()+ X_plot[0,1].item()+ X_plot[0,2].item())))\n",
    "\n",
    "\n",
    "\n",
    "## Generate plot\n",
    "color_1 = \"green\"\n",
    "fig = plt.figure(dpi=150)\n",
    "plt.title(f\"Predicted Mix with GWP = {-gwp_pred.round(decimals=2).item()}\")\n",
    "plt.plot(plot_times, curve_mean, color=color_1)\n",
    "plt.ylabel(\"Strength\")\n",
    "plt.xlabel(\"Time (Days)\")\n",
    "nsigma = 2\n",
    "# plot uncertainties or not\n",
    "plot_uncertainties = 1;\n",
    "if plot_uncertainties == 1:\n",
    "    plt.fill_between(\n",
    "        plot_times,\n",
    "        curve_mean - nsigma * curve_std,\n",
    "        curve_mean + nsigma * curve_std,\n",
    "        alpha=0.2,\n",
    "        label=\"Predictions\",\n",
    "        color=color_1,\n",
    "    )\n",
    "\n",
    "# if the mix is in the dataset, could grab the observed strength data (\"observed_data\") from Y\n",
    "# plt.plot(observed_times, observed_data, \"o\", label=\"Observations\", c=color_1)\n",
    "# plt.legend()\n",
    "\n",
    "plt.xscale(\"log\")\n",
    "special_times = [6 / 24, 1, 3, 5, 7, 14, 28]\n",
    "special_labels = [\n",
    "    \"6 hours\",\n",
    "    \"1 day\",\n",
    "    \"3 days\",\n",
    "    \"5 days\",\n",
    "    \"7 days\",\n",
    "    \"14 days\",\n",
    "    \"28 days\",\n",
    "]\n",
    "plt.xticks(special_times, special_labels, rotation=50)\n",
    "plt.grid(visible=True)\n",
    "\n",
    "xlim = (0.15, 30)\n",
    "ylim = (0, 12000)\n",
    "plt.xlim(xlim)\n",
    "plt.ylim(ylim)\n",
    "plt.figure(figsize=(6,6))\n",
    "\n"
   ]
  },
  {
   "cell_type": "code",
   "execution_count": null,
   "metadata": {
    "collapsed": false,
    "customInput": null,
    "customOutput": null,
    "executionStartTime": 1714009872561,
    "executionStopTime": 1714009874626,
    "jupyter": {
     "outputs_hidden": false
    },
    "originalKey": "a3e1fd9f-5dd3-4f1c-891e-6e8341c235f6",
    "outputsInitialized": true,
    "requestMsgId": "a3e1fd9f-5dd3-4f1c-891e-6e8341c235f6",
    "serverExecutionDuration": 0,
    "showInput": true
   },
   "outputs": [],
   "source": []
  },
  {
   "cell_type": "code",
   "execution_count": null,
   "metadata": {
    "customInput": null,
    "originalKey": "5ab13cbb-f48e-4166-b9e8-83a837069fbe",
    "showInput": true
   },
   "outputs": [],
   "source": []
  }
 ],
 "metadata": {
  "bento_stylesheets": {
   "bento/extensions/flow/main.css": true,
   "bento/extensions/kernel_selector/main.css": true,
   "bento/extensions/kernel_ui/main.css": true,
   "bento/extensions/new_kernel/main.css": true,
   "bento/extensions/system_usage/main.css": true,
   "bento/extensions/theme/main.css": true
  },
  "captumWidgetMessage": [],
  "dataExplorerConfig": [],
  "kernelspec": {
   "display_name": "Python 3 (ipykernel)",
   "language": "python",
   "name": "python3"
  },
  "language_info": {
   "codemirror_mode": {
    "name": "ipython",
    "version": 3
   },
   "file_extension": ".py",
   "mimetype": "text/x-python",
   "name": "python",
   "nbconvert_exporter": "python",
   "pygments_lexer": "ipython3",
   "version": "3.11.5"
  },
  "last_base_url": "https://devvm12436.prn0.facebook.com:8090/",
  "last_kernel_id": "de79b691-b921-41df-8c19-85263a1dd0e7",
  "last_msg_id": "52138b94-218d34059bb857df68733945_549",
  "last_server_session_id": "215c5799-4e02-4347-99f3-8b8c0fb9a8f9",
  "outputWidgetContext": []
 },
 "nbformat": 4,
 "nbformat_minor": 4
}
